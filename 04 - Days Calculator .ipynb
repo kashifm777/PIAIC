{
 "cells": [
  {
   "cell_type": "code",
   "execution_count": 11,
   "metadata": {},
   "outputs": [
    {
     "name": "stdout",
     "output_type": "stream",
     "text": [
      "Enter a date in [dd/mm/yy] format: 12/12/2018 \n",
      "Enter a date in [dd/mm/yy] format: 16/12/2018 \n",
      "There are 4 days in between 2018-12-12 and 2018-12-16\n"
     ]
    }
   ],
   "source": [
    "import datetime # import datetime library\n",
    "date0 = input(\"Enter a date in [dd/mm/yy] format: \") # enter first date in 01/01/2001 format\n",
    "date1 = input(\"Enter a date in [dd/mm/yy] format: \") # enter second date in 02/01/2001 format\n",
    "d0, m0, y0 = map(int, date0.split('/')) # iteratively map the componenets of first date\n",
    "d1, m1, y1 = map(int, date1.split('/')) # iteratively map the componenets of second date\n",
    "date0 = datetime.date(y0, m0, d0) # manipulating first date for calculation\n",
    "date1 = datetime.date(y1, m1, d1) # manipulating second date for calculation\n",
    "diff = date1 - date0 # difference in two days\n",
    "# displaying difference of dates in days\n",
    "print(\"There are \" + str(diff.days) + \" days in between \" + str(date0) + \" and \" + str(date1)) "
   ]
  }
 ],
 "metadata": {
  "kernelspec": {
   "display_name": "Python 3",
   "language": "python",
   "name": "python3"
  },
  "language_info": {
   "codemirror_mode": {
    "name": "ipython",
    "version": 3
   },
   "file_extension": ".py",
   "mimetype": "text/x-python",
   "name": "python",
   "nbconvert_exporter": "python",
   "pygments_lexer": "ipython3",
   "version": "3.6.5"
  }
 },
 "nbformat": 4,
 "nbformat_minor": 2
}
