{
 "cells": [
  {
   "cell_type": "code",
   "execution_count": 5,
   "metadata": {},
   "outputs": [
    {
     "name": "stdout",
     "output_type": "stream",
     "text": [
      "Enter text: Python # 3.2\n",
      "Numbers =  2\n",
      "Alphabets =  6\n",
      "Special Characters =  2\n",
      "Spaces =  2\n"
     ]
    }
   ],
   "source": [
    "alphabetCount = 0\n",
    "numberCount = 0\n",
    "specialCharacterCount = 0\n",
    "spaceCount = 0\n",
    "lowerAlphabet = \"qwertyuiopasdfghjklzxcvbnm\"\n",
    "upperAlphabet = \"QWERTYUIOPASDFGHJKLZXCVBNM\"\n",
    "number = \"1234567890\"\n",
    "space = \" \"\n",
    "text = input(\"Enter text: \")\n",
    "for k in text:\n",
    "    if k in lowerAlphabet:\n",
    "        alphabetCount += 1\n",
    "    elif k in upperAlphabet:\n",
    "        alphabetCount += 1\n",
    "    elif k in number:\n",
    "        numberCount += 1\n",
    "    elif k == \" \":\n",
    "        spaceCount += 1\n",
    "    else:\n",
    "        specialCharacterCount += 1\n",
    "print(\"Numbers = \", numberCount)\n",
    "print(\"Alphabets = \", alphabetCount)\n",
    "print(\"Special Characters = \", specialCharacterCount)\n",
    "print(\"Spaces = \", spaceCount)  \n"
   ]
  }
 ],
 "metadata": {
  "kernelspec": {
   "display_name": "Python 3",
   "language": "python",
   "name": "python3"
  },
  "language_info": {
   "codemirror_mode": {
    "name": "ipython",
    "version": 3
   },
   "file_extension": ".py",
   "mimetype": "text/x-python",
   "name": "python",
   "nbconvert_exporter": "python",
   "pygments_lexer": "ipython3",
   "version": "3.6.5"
  }
 },
 "nbformat": 4,
 "nbformat_minor": 2
}
