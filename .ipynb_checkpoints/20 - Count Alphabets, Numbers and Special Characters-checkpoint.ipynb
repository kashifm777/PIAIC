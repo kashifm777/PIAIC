{
 "cells": [
  {
   "cell_type": "code",
   "execution_count": 3,
   "metadata": {},
   "outputs": [
    {
     "ename": "SyntaxError",
     "evalue": "invalid syntax (<ipython-input-3-48674ee853bc>, line 8)",
     "output_type": "error",
     "traceback": [
      "\u001b[1;36m  File \u001b[1;32m\"<ipython-input-3-48674ee853bc>\"\u001b[1;36m, line \u001b[1;32m8\u001b[0m\n\u001b[1;33m    specialCharacter = \"!@#$%^&*()_-+=`~/{/[/}/]\\|;;'/\",.<>//?\"\u001b[0m\n\u001b[1;37m                                                        ^\u001b[0m\n\u001b[1;31mSyntaxError\u001b[0m\u001b[1;31m:\u001b[0m invalid syntax\n"
     ]
    }
   ],
   "source": [
    "alphabetCount = 0\n",
    "numberCount = 0\n",
    "specialCharacterCount = 0\n",
    "spaceCount = 0\n",
    "lowerAlphabet = \"qwertyuiopasdfghjklzxcvbnm\"\n",
    "upperAlphabet = \"QWERTYUIOPASDFGHJKLZXCVBNM\"\n",
    "number = \"1234567890\"\n",
    "space = \" \"\n",
    "text = input(\"Enter text: \")\n",
    "for k in text:\n",
    "    if k in lowerAlphabet:\n",
    "        alphabetCount += 1\n",
    "    elif k in upperAlphabet:\n",
    "        alphabetCount += 1\n",
    "    elif k in number:\n",
    "        numberCount += 1\n",
    "    elif k == \" \":\n",
    "        spaceCount += 1\n",
    "    else:\n",
    "        specialCharacterCount += 1\n",
    "print(\"Numbers = \", numberCount)\n",
    "print(\"Alphabets = \", alphabetCount)\n",
    "print(\"Special Characters = \", specialCharacterCount)\n",
    "print(\"Spaces = \", spaceCount)  \n"
   ]
  }
 ],
 "metadata": {
  "kernelspec": {
   "display_name": "Python 3",
   "language": "python",
   "name": "python3"
  },
  "language_info": {
   "codemirror_mode": {
    "name": "ipython",
    "version": 3
   },
   "file_extension": ".py",
   "mimetype": "text/x-python",
   "name": "python",
   "nbconvert_exporter": "python",
   "pygments_lexer": "ipython3",
   "version": "3.6.5"
  }
 },
 "nbformat": 4,
 "nbformat_minor": 2
}
