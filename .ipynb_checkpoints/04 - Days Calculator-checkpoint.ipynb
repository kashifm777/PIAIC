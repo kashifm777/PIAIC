{
 "cells": [
  {
   "cell_type": "code",
   "execution_count": null,
   "metadata": {},
   "outputs": [],
   "source": [
    "import datetime\n",
    "x = input(\"Enter first date in dd//mm//yyyy format:\")\n",
    "y = input(\"Enter second date in dd//mm//yyyy format:\")\n",
    "a = datetime.datetime.strptime(x,\"%Y,%m,%d\")\n",
    "b = datetime.datetime.strptime(y,\"%Y,%m,%d\")\n",
    "diff = (b-a).days\n",
    "print(\"Difference in two dates is: \", diff)"
   ]
  }
 ],
 "metadata": {
  "kernelspec": {
   "display_name": "Python 3",
   "language": "python",
   "name": "python3"
  },
  "language_info": {
   "codemirror_mode": {
    "name": "ipython",
    "version": 3
   },
   "file_extension": ".py",
   "mimetype": "text/x-python",
   "name": "python",
   "nbconvert_exporter": "python",
   "pygments_lexer": "ipython3",
   "version": "3.6.5"
  }
 },
 "nbformat": 4,
 "nbformat_minor": 2
}
