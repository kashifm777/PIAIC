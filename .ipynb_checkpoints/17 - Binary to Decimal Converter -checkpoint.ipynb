{
 "cells": [
  {
   "cell_type": "code",
   "execution_count": 2,
   "metadata": {},
   "outputs": [
    {
     "name": "stdout",
     "output_type": "stream",
     "text": [
      "Enter number in Binary Format: 111\n",
      "111 in Decimal = 7\n"
     ]
    }
   ],
   "source": [
    "binary = input(\"Enter a Binary number: \")\n",
    "decimal = int(binary, 2)\n",
    "print(\"Decimal Representation of \" + binary + \" is \" + decimal)"
   ]
  }
 ],
 "metadata": {
  "kernelspec": {
   "display_name": "Python 3",
   "language": "python",
   "name": "python3"
  },
  "language_info": {
   "codemirror_mode": {
    "name": "ipython",
    "version": 3
   },
   "file_extension": ".py",
   "mimetype": "text/x-python",
   "name": "python",
   "nbconvert_exporter": "python",
   "pygments_lexer": "ipython3",
   "version": "3.6.5"
  }
 },
 "nbformat": 4,
 "nbformat_minor": 2
}
