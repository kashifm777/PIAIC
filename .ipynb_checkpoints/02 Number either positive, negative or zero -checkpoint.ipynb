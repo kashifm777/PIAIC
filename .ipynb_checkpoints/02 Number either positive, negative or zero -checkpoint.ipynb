{
 "cells": [
  {
   "cell_type": "code",
   "execution_count": null,
   "metadata": {},
   "outputs": [],
   "source": [
    "num = int(input(\"Enter any whole number (positive or negative or zero)\"))\n",
    "    if num > 0:\n",
    "        print(\"You entered a positive number\")\n",
    "    elif num == 0:\n",
    "        print(\"You entered a Zero\")\n",
    "    else\n",
    "        print(\"You entered a negative number\")"
   ]
  }
 ],
 "metadata": {
  "kernelspec": {
   "display_name": "Python 3",
   "language": "python",
   "name": "python3"
  },
  "language_info": {
   "codemirror_mode": {
    "name": "ipython",
    "version": 3
   },
   "file_extension": ".py",
   "mimetype": "text/x-python",
   "name": "python",
   "nbconvert_exporter": "python",
   "pygments_lexer": "ipython3",
   "version": "3.6.5"
  }
 },
 "nbformat": 4,
 "nbformat_minor": 2
}
