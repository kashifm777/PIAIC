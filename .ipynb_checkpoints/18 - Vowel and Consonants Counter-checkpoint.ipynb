{
 "cells": [
  {
   "cell_type": "code",
   "execution_count": 18,
   "metadata": {},
   "outputs": [
    {
     "name": "stdout",
     "output_type": "stream",
     "text": [
      "Enter text: QuickBrownFoxJumpsovertheDog\n",
      "u\n",
      "i\n",
      "o\n",
      "o\n",
      "u\n",
      "o\n",
      "e\n",
      "e\n",
      "o\n",
      "Vowels:  9\n",
      "Consonant:  19\n"
     ]
    }
   ],
   "source": [
    "consonantCount = 0\n",
    "vowelCount = 0\n",
    "vowel = \"AaEeIiOoUu\"\n",
    "text = input(\"Enter text: \")\n",
    "for k in text:\n",
    "    if k in vowel:\n",
    "        vowelCount += 1\n",
    "    else:\n",
    "        consonantCount += 1\n",
    "print(\"Vowels: \", vowelCount)\n",
    "print(\"Consonant: \", consonantCount)"
   ]
  }
 ],
 "metadata": {
  "kernelspec": {
   "display_name": "Python 3",
   "language": "python",
   "name": "python3"
  },
  "language_info": {
   "codemirror_mode": {
    "name": "ipython",
    "version": 3
   },
   "file_extension": ".py",
   "mimetype": "text/x-python",
   "name": "python",
   "nbconvert_exporter": "python",
   "pygments_lexer": "ipython3",
   "version": "3.6.5"
  }
 },
 "nbformat": 4,
 "nbformat_minor": 2
}
