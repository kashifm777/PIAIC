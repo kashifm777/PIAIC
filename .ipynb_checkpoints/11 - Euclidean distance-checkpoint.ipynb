{
 "cells": [
  {
   "cell_type": "code",
   "execution_count": null,
   "metadata": {},
   "outputs": [],
   "source": [
    "# Ai Assignment 16 - Distance between two points (X1, Y1) and (X2, Y2)\n",
    "#                    Distance formula is: SQRT[(X1 - X2)^2 + (Y1 - Y2)^2]\n",
    "from math import sqrt\n",
    "x1 = float(input(\"Enter Co-ordinate for x1: \"))\n",
    "x2 = float(input(\"Enter Co-ordinate for x2: \"))\n",
    "y1 = float(input(\"Enter Co-ordinate for y1: \"))\n",
    "y2 = float(input(\"Enter Co-ordinate for y2: \"))\n",
    "diff = sqrt((x1 - x2) ** 2 + (y1 - y2) ** 2)\n",
    "print(\"Distance is : \", d)"
   ]
  }
 ],
 "metadata": {
  "kernelspec": {
   "display_name": "Python 3",
   "language": "python",
   "name": "python3"
  },
  "language_info": {
   "codemirror_mode": {
    "name": "ipython",
    "version": 3
   },
   "file_extension": ".py",
   "mimetype": "text/x-python",
   "name": "python",
   "nbconvert_exporter": "python",
   "pygments_lexer": "ipython3",
   "version": "3.6.5"
  }
 },
 "nbformat": 4,
 "nbformat_minor": 2
}
