{
 "cells": [
  {
   "cell_type": "code",
   "execution_count": 2,
   "metadata": {},
   "outputs": [
    {
     "name": "stdout",
     "output_type": "stream",
     "text": [
      "Enter a Number: 9\n",
      "Number is Odd\n"
     ]
    }
   ],
   "source": [
    "k = input(\"Enter a Number: \") # takinf user input for a number \n",
    "if int(k) % 2 == 0: # checking whether the number is even or odd\n",
    "    print(\"Number is Even\") # display if the number is even\n",
    "else:\n",
    "    print(\"Number is Odd\") # display if the number is odd"
   ]
  }
 ],
 "metadata": {
  "kernelspec": {
   "display_name": "Python 3",
   "language": "python",
   "name": "python3"
  },
  "language_info": {
   "codemirror_mode": {
    "name": "ipython",
    "version": 3
   },
   "file_extension": ".py",
   "mimetype": "text/x-python",
   "name": "python",
   "nbconvert_exporter": "python",
   "pygments_lexer": "ipython3",
   "version": "3.6.5"
  }
 },
 "nbformat": 4,
 "nbformat_minor": 2
}
