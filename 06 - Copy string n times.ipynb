{
 "cells": [
  {
   "cell_type": "code",
   "execution_count": 4,
   "metadata": {},
   "outputs": [
    {
     "name": "stdout",
     "output_type": "stream",
     "text": [
      "Enter a String : My name is Kashif\n",
      "Enter N Copies : 4\n",
      "N Copies = My name is KashifMy name is KashifMy name is KashifMy name is Kashif \n"
     ]
    }
   ],
   "source": [
    "string = input(\"Enter a String : \") # enter any string\n",
    "n = input(\"Enter N Copies : \") # enter number of copies\n",
    "print(\"N Copies = \" + (string * int(n)) + \" \") # display copies of string"
   ]
  }
 ],
 "metadata": {
  "kernelspec": {
   "display_name": "Python 3",
   "language": "python",
   "name": "python3"
  },
  "language_info": {
   "codemirror_mode": {
    "name": "ipython",
    "version": 3
   },
   "file_extension": ".py",
   "mimetype": "text/x-python",
   "name": "python",
   "nbconvert_exporter": "python",
   "pygments_lexer": "ipython3",
   "version": "3.6.5"
  }
 },
 "nbformat": 4,
 "nbformat_minor": 2
}
