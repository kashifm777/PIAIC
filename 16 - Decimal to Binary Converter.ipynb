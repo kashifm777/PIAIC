{
 "cells": [
  {
   "cell_type": "code",
   "execution_count": 8,
   "metadata": {},
   "outputs": [
    {
     "name": "stdout",
     "output_type": "stream",
     "text": [
      "Enter a decimal number: 32\n",
      "Binary Representation of 32 is \n",
      "100000"
     ]
    }
   ],
   "source": [
    "def decToBin(num):\n",
    "    if num > 1:\n",
    "        decToBin(num // 2)\n",
    "    print(num % 2, end='')\n",
    "    \n",
    "num = int(input(\"Enter a decimal number: \"))\n",
    "print(\"Binary Representation of \" + str(num) + \" is \")\n",
    "dec = decToBin(num)"
   ]
  }
 ],
 "metadata": {
  "kernelspec": {
   "display_name": "Python 3",
   "language": "python",
   "name": "python3"
  },
  "language_info": {
   "codemirror_mode": {
    "name": "ipython",
    "version": 3
   },
   "file_extension": ".py",
   "mimetype": "text/x-python",
   "name": "python",
   "nbconvert_exporter": "python",
   "pygments_lexer": "ipython3",
   "version": "3.6.5"
  }
 },
 "nbformat": 4,
 "nbformat_minor": 2
}
