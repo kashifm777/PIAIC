{
 "cells": [
  {
   "cell_type": "code",
   "execution_count": 4,
   "metadata": {},
   "outputs": [
    {
     "name": "stdout",
     "output_type": "stream",
     "text": [
      "Enter a positive number: 1234\n",
      "Sum of 4 Digits in 1234 is : 10\n"
     ]
    }
   ],
   "source": [
    "num = input(\"Enter a positive number: \")\n",
    "sum = 0\n",
    "k = 0\n",
    "for d in num:\n",
    "    sum += int(d)\n",
    "    k += 1\n",
    "print(\"Sum of \" + str(k) + \" Digits in \" + num + \" is :\", sum)"
   ]
  }
 ],
 "metadata": {
  "kernelspec": {
   "display_name": "Python 3",
   "language": "python",
   "name": "python3"
  },
  "language_info": {
   "codemirror_mode": {
    "name": "ipython",
    "version": 3
   },
   "file_extension": ".py",
   "mimetype": "text/x-python",
   "name": "python",
   "nbconvert_exporter": "python",
   "pygments_lexer": "ipython3",
   "version": "3.6.5"
  }
 },
 "nbformat": 4,
 "nbformat_minor": 2
}
