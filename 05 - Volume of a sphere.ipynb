{
 "cells": [
  {
   "cell_type": "code",
   "execution_count": 1,
   "metadata": {},
   "outputs": [
    {
     "name": "stdout",
     "output_type": "stream",
     "text": [
      "Enter Radius of Sphere : 1\n",
      "Area of Sphere is :  4.1887902047863905\n"
     ]
    }
   ],
   "source": [
    "import math # importing math library\n",
    "rad = float(input(\"Enter Radius of Sphere : \")) #Enter radius of sphere and converting in floating point\n",
    "area = 4 / 3 * math.pi * rad ** 3 # calculating volume of sphere with input radius and math.pi\n",
    "print(\"Area of Sphere is : \",area) # displaying calculated volume of sphere with given input radius"
   ]
  }
 ],
 "metadata": {
  "kernelspec": {
   "display_name": "Python 3",
   "language": "python",
   "name": "python3"
  },
  "language_info": {
   "codemirror_mode": {
    "name": "ipython",
    "version": 3
   },
   "file_extension": ".py",
   "mimetype": "text/x-python",
   "name": "python",
   "nbconvert_exporter": "python",
   "pygments_lexer": "ipython3",
   "version": "3.6.5"
  }
 },
 "nbformat": 4,
 "nbformat_minor": 2
}
