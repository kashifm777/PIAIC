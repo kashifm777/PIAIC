{
 "cells": [
  {
   "cell_type": "code",
   "execution_count": 1,
   "metadata": {},
   "outputs": [
    {
     "name": "stdout",
     "output_type": "stream",
     "text": [
      "Enter Radius of Circle : 0.5\n",
      "Area of Circle is :  0.7853981633974483\n"
     ]
    }
   ],
   "source": [
    "import math\n",
    "rad = float(input(\"Enter Radius of Circle : \")) # taking user input and converting it into floating point\n",
    "area = math.pi * rad ** 2 # obtaining value of pi from math library and calculating area\n",
    "print(\"Area of Circle is : \", area) # display the radius of circle with input radius"
   ]
  }
 ],
 "metadata": {
  "kernelspec": {
   "display_name": "Python 3",
   "language": "python",
   "name": "python3"
  },
  "language_info": {
   "codemirror_mode": {
    "name": "ipython",
    "version": 3
   },
   "file_extension": ".py",
   "mimetype": "text/x-python",
   "name": "python",
   "nbconvert_exporter": "python",
   "pygments_lexer": "ipython3",
   "version": "3.6.5"
  }
 },
 "nbformat": 4,
 "nbformat_minor": 2
}
