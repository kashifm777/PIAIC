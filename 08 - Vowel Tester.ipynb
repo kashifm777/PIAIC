{
 "cells": [
  {
   "cell_type": "code",
   "execution_count": 6,
   "metadata": {},
   "outputs": [
    {
     "name": "stdout",
     "output_type": "stream",
     "text": [
      "Enter a Letter: N\n",
      "Letter N is not Vowel\n"
     ]
    }
   ],
   "source": [
    "k = input(\"Enter a Letter: \")\n",
    "vowel = \"aeiouAEIOU\"\n",
    "if k in vowel:\n",
    "    print(\"Letter \"+ str(k) + \" is Vowel\")\n",
    "else:\n",
    "    print(\"Letter \"+ str(k) + \" is not Vowel\")"
   ]
  }
 ],
 "metadata": {
  "kernelspec": {
   "display_name": "Python 3",
   "language": "python",
   "name": "python3"
  },
  "language_info": {
   "codemirror_mode": {
    "name": "ipython",
    "version": 3
   },
   "file_extension": ".py",
   "mimetype": "text/x-python",
   "name": "python",
   "nbconvert_exporter": "python",
   "pygments_lexer": "ipython3",
   "version": "3.6.5"
  }
 },
 "nbformat": 4,
 "nbformat_minor": 2
}
