{
 "cells": [
  {
   "cell_type": "code",
   "execution_count": 2,
   "metadata": {},
   "outputs": [
    {
     "name": "stdout",
     "output_type": "stream",
     "text": [
      "Enter First Number  : 7\n",
      "Enter Second Number : 4\n",
      "Number 7 is Not Completely Divisible by 4\n"
     ]
    }
   ],
   "source": [
    "k1 = input(\"Enter First Number  : \") # taking first input\n",
    "k2 = input(\"Enter Second Number : \") # taking second input\n",
    "if (int(k1) % int(k2)) == 0: # checking divisbility of first number with second\n",
    "    print(\"Number \" + k1 + \" is Completely Divisible by \" + k2) # displayed if completely divisble\n",
    "else:\n",
    "    print(\"Number \" + k1 + \" is Not Completely Divisible by \" + k2) # displayed if not completely divisble"
   ]
  }
 ],
 "metadata": {
  "kernelspec": {
   "display_name": "Python 3",
   "language": "python",
   "name": "python3"
  },
  "language_info": {
   "codemirror_mode": {
    "name": "ipython",
    "version": 3
   },
   "file_extension": ".py",
   "mimetype": "text/x-python",
   "name": "python",
   "nbconvert_exporter": "python",
   "pygments_lexer": "ipython3",
   "version": "3.6.5"
  }
 },
 "nbformat": 4,
 "nbformat_minor": 2
}
